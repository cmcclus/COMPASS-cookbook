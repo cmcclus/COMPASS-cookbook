{
 "cells": [
  {
   "cell_type": "code",
   "execution_count": 2,
   "id": "02565fb1-130c-451d-ba75-71cba13a45b9",
   "metadata": {},
   "outputs": [],
   "source": [
    "# import necessary modules \n",
    "%matplotlib inline \n",
    "import numpy as np\n",
    "import matplotlib.pyplot as plt\n",
    "from scipy.io import netcdf\n",
    "import math as math\n",
    "import pandas as pd\n",
    "from matplotlib import gridspec\n",
    "import scipy\n",
    "from scipy import stats, special\n"
   ]
  },
  {
   "cell_type": "code",
   "execution_count": 3,
   "id": "ef80cc5c-2f62-4fba-9447-283e4952cc91",
   "metadata": {},
   "outputs": [
    {
     "ename": "FileNotFoundError",
     "evalue": "[Errno 2] No such file or directory: '/glade/work/cmcclus/CAM_misc/cam_output/ForJayMace/cam6_2032_sd_soar_base_MG3_01252023.cam.hs.2017_2018.merged.nc'",
     "output_type": "error",
     "traceback": [
      "\u001b[0;31m---------------------------------------------------------------------------\u001b[0m",
      "\u001b[0;31mFileNotFoundError\u001b[0m                         Traceback (most recent call last)",
      "\u001b[0;32m/tmp/ipykernel_2288886/3244275480.py\u001b[0m in \u001b[0;36m<module>\u001b[0;34m\u001b[0m\n\u001b[1;32m      2\u001b[0m \u001b[0mdirectory\u001b[0m \u001b[0;34m=\u001b[0m \u001b[0;34m'/glade/work/cmcclus/CAM_misc/cam_output/ForJayMace/'\u001b[0m\u001b[0;34m\u001b[0m\u001b[0;34m\u001b[0m\u001b[0m\n\u001b[1;32m      3\u001b[0m \u001b[0mfilename\u001b[0m \u001b[0;34m=\u001b[0m \u001b[0mdirectory\u001b[0m\u001b[0;34m+\u001b[0m\u001b[0;34m'cam6_2032_sd_soar_base_MG3_01252023.cam.hs.2017_2018.merged.nc'\u001b[0m\u001b[0;34m\u001b[0m\u001b[0;34m\u001b[0m\u001b[0m\n\u001b[0;32m----> 4\u001b[0;31m \u001b[0mCAM\u001b[0m \u001b[0;34m=\u001b[0m \u001b[0mnetcdf\u001b[0m\u001b[0;34m.\u001b[0m\u001b[0mnetcdf_file\u001b[0m\u001b[0;34m(\u001b[0m\u001b[0mfilename\u001b[0m\u001b[0;34m,\u001b[0m \u001b[0;34m'r'\u001b[0m\u001b[0;34m)\u001b[0m\u001b[0;34m\u001b[0m\u001b[0;34m\u001b[0m\u001b[0m\n\u001b[0m",
      "\u001b[0;32m/project/amp/cmcclus/miniconda3/envs/geocat/lib/python3.7/site-packages/scipy/io/netcdf.py\u001b[0m in \u001b[0;36m__init__\u001b[0;34m(self, filename, mode, mmap, version, maskandscale)\u001b[0m\n\u001b[1;32m    245\u001b[0m             \u001b[0mself\u001b[0m\u001b[0;34m.\u001b[0m\u001b[0mfilename\u001b[0m \u001b[0;34m=\u001b[0m \u001b[0mfilename\u001b[0m\u001b[0;34m\u001b[0m\u001b[0;34m\u001b[0m\u001b[0m\n\u001b[1;32m    246\u001b[0m             \u001b[0momode\u001b[0m \u001b[0;34m=\u001b[0m \u001b[0;34m'r+'\u001b[0m \u001b[0;32mif\u001b[0m \u001b[0mmode\u001b[0m \u001b[0;34m==\u001b[0m \u001b[0;34m'a'\u001b[0m \u001b[0;32melse\u001b[0m \u001b[0mmode\u001b[0m\u001b[0;34m\u001b[0m\u001b[0;34m\u001b[0m\u001b[0m\n\u001b[0;32m--> 247\u001b[0;31m             \u001b[0mself\u001b[0m\u001b[0;34m.\u001b[0m\u001b[0mfp\u001b[0m \u001b[0;34m=\u001b[0m \u001b[0mopen\u001b[0m\u001b[0;34m(\u001b[0m\u001b[0mself\u001b[0m\u001b[0;34m.\u001b[0m\u001b[0mfilename\u001b[0m\u001b[0;34m,\u001b[0m \u001b[0;34m'%sb'\u001b[0m \u001b[0;34m%\u001b[0m \u001b[0momode\u001b[0m\u001b[0;34m)\u001b[0m\u001b[0;34m\u001b[0m\u001b[0;34m\u001b[0m\u001b[0m\n\u001b[0m\u001b[1;32m    248\u001b[0m             \u001b[0;32mif\u001b[0m \u001b[0mmmap\u001b[0m \u001b[0;32mis\u001b[0m \u001b[0;32mNone\u001b[0m\u001b[0;34m:\u001b[0m\u001b[0;34m\u001b[0m\u001b[0;34m\u001b[0m\u001b[0m\n\u001b[1;32m    249\u001b[0m                 \u001b[0;31m# Mmapped files on PyPy cannot be usually closed\u001b[0m\u001b[0;34m\u001b[0m\u001b[0;34m\u001b[0m\u001b[0;34m\u001b[0m\u001b[0m\n",
      "\u001b[0;31mFileNotFoundError\u001b[0m: [Errno 2] No such file or directory: '/glade/work/cmcclus/CAM_misc/cam_output/ForJayMace/cam6_2032_sd_soar_base_MG3_01252023.cam.hs.2017_2018.merged.nc'"
     ]
    }
   ],
   "source": [
    "# Set Directories \n",
    "directory = '/glade/work/cmcclus/CAM_misc/cam_output/ForJayMace/'\n",
    "filename = directory+'cam6_2032_sd_soar_base_MG3_01252023.cam.hs.2017_2018.merged.nc'\n",
    "CAM = netcdf.netcdf_file(filename, 'r')"
   ]
  },
  {
   "cell_type": "code",
   "execution_count": null,
   "id": "12778ce5-0e70-46eb-a53e-4c3150100f81",
   "metadata": {},
   "outputs": [],
   "source": [
    "# EXTRACT VARIABLES FROM CAM NETCDF FILE\n",
    "instr_num = CAM.variables['instr_num'][:] # orbit number (flight number)\n",
    "orbit_num = CAM.variables['orbit_num'][instr_num==32] # orbit number (flight number)\n",
    "\n",
    "lat = CAM.variables['lat'][instr_num==32] # latitude of CAM gridbox \n",
    "lon = CAM.variables['lon'][instr_num==32] # longitude of CAM gridbox\n",
    "cam_time = CAM.variables['julian'][instr_num==32]-6575 # CAM timestamp; days since 2018-01-01 00:00:00\n",
    "\n",
    "# correct time to hours (account for DOY)\n",
    "CAM_time_corr_factor =0. #np.floor(np.min(cam_time))\n",
    "time_adj = (cam_time+CAM_time_corr_factor) # convert timestamp to hours since 2015-07-17 00:00:00 to match observations. \n",
    "\n",
    "# hybrid grid-related variables \n",
    "P0 = CAM.variables['P0'][...] # reference pressure\n",
    "PS = CAM.variables['PS'][instr_num==32] # surface pressure [=] Pa\n",
    "hyam = CAM.variables['hyam'][...] # hybrid A coefficient at layer midpoints\n",
    "hybm = CAM.variables['hybm'][...] # hybrid B coefficient at layer midpoints\n",
    "P_dummy = P0*hyam\n",
    "midP = (P_dummy+(hybm*PS[:,None]))# [=] Pa \n",
    "midP_hPa = midP*0.01 # [=] hPa\n",
    "Z = CAM.variables['Z3'][instr_num==32] # geopotential Height  [=] m\n",
    "\n",
    "# Met variables: \n",
    "RH = CAM.variables['RELHUM'][instr_num==32] # relative hum. [=] % \n",
    "Q = CAM.variables['Q'][instr_num==32] # specific humidity [=] kg/kg\n",
    "T = CAM.variables['T'][instr_num==32] # K\n",
    "\n",
    "# calc mass density \n",
    "Rdry = 287.\n",
    "massdens = midP / T / Rdry # [=] kg/m3\n",
    "\n",
    "# Cloud variables\n",
    "CLOUD = CAM.variables['CLOUD'][instr_num==32] # cloud fraction [=] fraction\n",
    "CLOUD[CLOUD<=1.e-4]=1.e-4\n",
    "\n",
    "CLDLIQ = CAM.variables['CLDLIQ'][instr_num==32] # [=] kg/kg\n",
    "CLDICE = CAM.variables['CLDICE'][instr_num==32] # [=] kg/kg\n",
    "QRAIN = CAM.variables['QRAIN'][instr_num==32] # [=] kg/kg\n",
    "QSNOW = CAM.variables['QSNOW'][instr_num==32] # [=] kg/kg\n",
    "\n",
    "NUMLIQ = CAM.variables['NUMLIQ'][instr_num==32]*massdens# [=] #/kg conv. to #/m3\n",
    "NUMICE = CAM.variables['NUMICE'][instr_num==32]*massdens# [=] #/kg conv. to #/m3\n",
    "NRAIN = CAM.variables['NRAIN'][instr_num==32]# [=] #/m3\n",
    "NSNOW = CAM.variables['NSNOW'][instr_num==32]# [=] #/m3\n",
    "\n",
    "# converting grid-box average values to in-cloud values\n",
    "icnc =  NUMLIQ/CLOUD# in cloud number concentration of liquid[=] #/m3\n",
    "icqc = CLDLIQ/CLOUD # in cloud mixing ratio of liquid [=] kg/kg\n",
    " \n",
    "icni = NUMICE/CLOUD # in cloud number concentration of ice [=] #/m3\n",
    "icqi = CLDICE/CLOUD # in cloud mixing ratio of ice [=] kg/kg\n",
    "\n",
    "icns = NSNOW/CLOUD # in cloud number concentration of snow [=] #/m3\n",
    "icqs = QSNOW/CLOUD # in cloud mixing ratio of snow [=] kg/kg\n",
    "\n",
    "icnr = NRAIN/CLOUD # in cloud number concentration of rain [=] #/m3\n",
    "icqr = QRAIN/CLOUD # in cloud mixing ratio of rain [=] kg/kg\n",
    "\n",
    "icqt = icqc+icqi+icqs+icqr\n",
    "\n",
    "\n",
    "# if the CAM simulations report IWC or LWC lower than 4.68×10-5 g m-3, we set these variables equal to zero\n",
    "minval = 4.68e-5*0.001 # minimum mass of ice/lquid [=] kg/m3\n",
    "\n",
    "LWC = CAM.variables['LWC'][instr_num==32] # liquid water content [=] kg/m3\n",
    "IWC = CAM.variables['IWC'][instr_num==32] # ice water content [=] kg/m3\n",
    "# LWC[LWC<minval]=0.\n",
    "# IWC[IWC<minval]=0.\n",
    "TWC = LWC + IWC # total water content [=] kg/m3\n",
    "Frac = LWC/TWC"
   ]
  },
  {
   "cell_type": "code",
   "execution_count": null,
   "id": "2a7db507-6c3b-4adf-a1fe-06a496282100",
   "metadata": {},
   "outputs": [],
   "source": []
  }
 ],
 "metadata": {
  "kernelspec": {
   "display_name": "Python 3 (ipykernel)",
   "language": "python",
   "name": "python3"
  },
  "language_info": {
   "codemirror_mode": {
    "name": "ipython",
    "version": 3
   },
   "file_extension": ".py",
   "mimetype": "text/x-python",
   "name": "python",
   "nbconvert_exporter": "python",
   "pygments_lexer": "ipython3",
   "version": "3.7.12"
  }
 },
 "nbformat": 4,
 "nbformat_minor": 5
}
